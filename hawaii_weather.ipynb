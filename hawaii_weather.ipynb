{
 "cells": [
  {
   "cell_type": "code",
   "execution_count": 1,
   "metadata": {
    "scrolled": true
   },
   "outputs": [],
   "source": [
    "%matplotlib inline\n",
    "%matplotlib notebook\n",
    "from matplotlib import style\n",
    "style.use('fivethirtyeight')\n",
    "import matplotlib.pyplot as plt"
   ]
  },
  {
   "cell_type": "code",
   "execution_count": 2,
   "metadata": {},
   "outputs": [],
   "source": [
    "import numpy as np\n",
    "import pandas as pd"
   ]
  },
  {
   "cell_type": "code",
   "execution_count": 3,
   "metadata": {},
   "outputs": [],
   "source": [
    "import datetime as dt"
   ]
  },
  {
   "cell_type": "markdown",
   "metadata": {},
   "source": [
    "# Reflect Tables into SQLAlchemy ORM"
   ]
  },
  {
   "cell_type": "code",
   "execution_count": 4,
   "metadata": {},
   "outputs": [],
   "source": [
    "# Python SQL toolkit and Object Relational Mapper\n",
    "import sqlalchemy\n",
    "from sqlalchemy.ext.automap import automap_base\n",
    "from sqlalchemy.orm import Session\n",
    "from sqlalchemy import create_engine, inspect, func"
   ]
  },
  {
   "cell_type": "code",
   "execution_count": 5,
   "metadata": {},
   "outputs": [],
   "source": [
    "engine = create_engine(\"sqlite:///Resources/hawaii.sqlite\")"
   ]
  },
  {
   "cell_type": "code",
   "execution_count": 6,
   "metadata": {},
   "outputs": [],
   "source": [
    "# reflect an existing database into a new model\n",
    "Base = automap_base()\n",
    "# reflect the tables\n",
    "Base.prepare(engine, reflect=True)"
   ]
  },
  {
   "cell_type": "code",
   "execution_count": 7,
   "metadata": {},
   "outputs": [
    {
     "data": {
      "text/plain": [
       "['measurement', 'station']"
      ]
     },
     "execution_count": 7,
     "metadata": {},
     "output_type": "execute_result"
    }
   ],
   "source": [
    "# We can view all of the classes that automap found\n",
    "Base.classes.keys()"
   ]
  },
  {
   "cell_type": "code",
   "execution_count": 8,
   "metadata": {},
   "outputs": [],
   "source": [
    "# Save references to each table\n",
    "Measurement = Base.classes.measurement\n",
    "Station = Base.classes.station"
   ]
  },
  {
   "cell_type": "code",
   "execution_count": 9,
   "metadata": {},
   "outputs": [],
   "source": [
    "# Create our session (link) from Python to the DB\n",
    "session = Session(engine)"
   ]
  },
  {
   "cell_type": "markdown",
   "metadata": {},
   "source": [
    "# Exploratory Climate Analysis"
   ]
  },
  {
   "cell_type": "code",
   "execution_count": 10,
   "metadata": {},
   "outputs": [],
   "source": [
    "# Design a query to retrieve the last 12 months of precipitation data and plot the results\n",
    "\n",
    "# Calculate the date 1 year ago from the last data point in the database\n",
    "\n",
    "# Perform a query to retrieve the data and precipitation scores\n",
    "\n",
    "# Save the query results as a Pandas DataFrame and set the index to the date column\n",
    "\n",
    "# Sort the dataframe by date\n",
    "\n",
    "# Use Pandas Plotting with Matplotlib to plot the data\n"
   ]
  },
  {
   "cell_type": "code",
   "execution_count": 11,
   "metadata": {},
   "outputs": [
    {
     "data": {
      "text/plain": [
       "['measurement', 'station']"
      ]
     },
     "execution_count": 11,
     "metadata": {},
     "output_type": "execute_result"
    }
   ],
   "source": [
    "# First understand the database and the tables by using the inspector\n",
    "inspector = inspect(engine)\n",
    "inspector.get_table_names()"
   ]
  },
  {
   "cell_type": "code",
   "execution_count": 12,
   "metadata": {},
   "outputs": [
    {
     "name": "stdout",
     "output_type": "stream",
     "text": [
      "id INTEGER\n",
      "station TEXT\n",
      "date TEXT\n",
      "prcp FLOAT\n",
      "tobs FLOAT\n"
     ]
    }
   ],
   "source": [
    "#Next use inspector do get the column names and data types for each table.\n",
    "#Start with the table \"measurements\"\n",
    "columns_1 = inspector.get_columns('measurement')\n",
    "for c in columns_1:\n",
    "    print (c['name'], c[\"type\"])"
   ]
  },
  {
   "cell_type": "code",
   "execution_count": 13,
   "metadata": {},
   "outputs": [
    {
     "name": "stdout",
     "output_type": "stream",
     "text": [
      "id INTEGER\n",
      "station TEXT\n",
      "name TEXT\n",
      "latitude FLOAT\n",
      "longitude FLOAT\n",
      "elevation FLOAT\n"
     ]
    }
   ],
   "source": [
    "#Do the same for table \"station\"\n",
    "columns_2 = inspector.get_columns('station')\n",
    "for c in columns_2:\n",
    "    print (c['name'], c[\"type\"])"
   ]
  },
  {
   "cell_type": "code",
   "execution_count": 14,
   "metadata": {
    "scrolled": true
   },
   "outputs": [
    {
     "name": "stdout",
     "output_type": "stream",
     "text": [
      "2017-08-23\n"
     ]
    }
   ],
   "source": [
    "# Determine the last date in the date column\n",
    "# Need to perform a session.query\n",
    "# Using session.query returns date as text\n",
    "last_date = session.query(Measurement.date).order_by(Measurement.date.desc()).first()[0]\n",
    "print(last_date)"
   ]
  },
  {
   "cell_type": "code",
   "execution_count": 15,
   "metadata": {},
   "outputs": [
    {
     "data": {
      "text/plain": [
       "str"
      ]
     },
     "execution_count": 15,
     "metadata": {},
     "output_type": "execute_result"
    }
   ],
   "source": [
    "# Determine the data type of last_date to confirm that it is a String\n",
    "type(last_date)"
   ]
  },
  {
   "cell_type": "code",
   "execution_count": 16,
   "metadata": {},
   "outputs": [
    {
     "name": "stdout",
     "output_type": "stream",
     "text": [
      "2017-08-23 00:00:00\n"
     ]
    },
    {
     "data": {
      "text/plain": [
       "datetime.datetime"
      ]
     },
     "execution_count": 16,
     "metadata": {},
     "output_type": "execute_result"
    }
   ],
   "source": [
    "#Convert last_date from string to Date type\n",
    "# Use the strptime method of datetime to convert the date from String to Datetime showing YYYY-MM-DD\n",
    "# https://stackoverflow.com/questions/466345/converting-string-into-datetime\n",
    "\n",
    "from datetime import datetime, timedelta\n",
    "\n",
    "end = datetime.strptime(last_date, '%Y-%m-%d')\n",
    "\n",
    "\n",
    "print(end)\n",
    "type(end)"
   ]
  },
  {
   "cell_type": "code",
   "execution_count": 17,
   "metadata": {},
   "outputs": [
    {
     "name": "stdout",
     "output_type": "stream",
     "text": [
      "2016-08-22 00:00:00\n"
     ]
    }
   ],
   "source": [
    "#Determine date 12 months before the last_date by using timedelta\n",
    "# http://www.pressthered.com/adding_dates_and_times_in_python/ \n",
    "# using 366 because I want to capture 2016-08-23 as the first day in the query result\n",
    "# when I used 365 it gave me 2016-08-24 as the first day in the query results\n",
    "#from datetime import datetime, timedelta - already done in cell aboe\n",
    "\n",
    "twelve_months_prior = end - timedelta(days=366)\n",
    "print(twelve_months_prior)\n"
   ]
  },
  {
   "cell_type": "code",
   "execution_count": 18,
   "metadata": {
    "scrolled": true
   },
   "outputs": [
    {
     "data": {
      "text/html": [
       "<div>\n",
       "<style scoped>\n",
       "    .dataframe tbody tr th:only-of-type {\n",
       "        vertical-align: middle;\n",
       "    }\n",
       "\n",
       "    .dataframe tbody tr th {\n",
       "        vertical-align: top;\n",
       "    }\n",
       "\n",
       "    .dataframe thead th {\n",
       "        text-align: right;\n",
       "    }\n",
       "</style>\n",
       "<table border=\"1\" class=\"dataframe\">\n",
       "  <thead>\n",
       "    <tr style=\"text-align: right;\">\n",
       "      <th></th>\n",
       "      <th>Daily Precipitation Per Weather Station</th>\n",
       "    </tr>\n",
       "    <tr>\n",
       "      <th>Date</th>\n",
       "      <th></th>\n",
       "    </tr>\n",
       "  </thead>\n",
       "  <tbody>\n",
       "    <tr>\n",
       "      <th>2016-08-23</th>\n",
       "      <td>0.00</td>\n",
       "    </tr>\n",
       "    <tr>\n",
       "      <th>2016-08-24</th>\n",
       "      <td>0.08</td>\n",
       "    </tr>\n",
       "    <tr>\n",
       "      <th>2016-08-25</th>\n",
       "      <td>0.08</td>\n",
       "    </tr>\n",
       "    <tr>\n",
       "      <th>2016-08-26</th>\n",
       "      <td>0.00</td>\n",
       "    </tr>\n",
       "    <tr>\n",
       "      <th>2016-08-27</th>\n",
       "      <td>0.00</td>\n",
       "    </tr>\n",
       "  </tbody>\n",
       "</table>\n",
       "</div>"
      ],
      "text/plain": [
       "            Daily Precipitation Per Weather Station\n",
       "Date                                               \n",
       "2016-08-23                                     0.00\n",
       "2016-08-24                                     0.08\n",
       "2016-08-25                                     0.08\n",
       "2016-08-26                                     0.00\n",
       "2016-08-27                                     0.00"
      ]
     },
     "execution_count": 18,
     "metadata": {},
     "output_type": "execute_result"
    }
   ],
   "source": [
    "#Retrieve last 12 months of precipitation data - 8/23/2016 to 8/23/2017\n",
    "# Extract using session.query\n",
    "# https://appdividend.com/2019/01/26/pandas-set-index-example-python-set_index-tutorial/\n",
    "# Extracted the \"daily\" precipitation measured at individual stations for a given day\n",
    "\n",
    "daily_indiv_station_prcp_results = session.query(Measurement.prcp, Measurement.date).\\\n",
    "          filter(Measurement.date.between(twelve_months_prior, end))\n",
    "\n",
    "#Define two lists to store the daily prcp and date values\n",
    "\n",
    "daily_indiv_station_prcp=[]\n",
    "date=[]\n",
    "\n",
    "for row in daily_indiv_station_prcp_results:\n",
    "    daily_indiv_station_prcp.append(row[0])\n",
    "    date.append(row[1])\n",
    "\n",
    "#Define a pandas dataframe to store the values in order to be able to plot\n",
    "\n",
    "daily_indiv_station_prcp_df = pd.DataFrame({\"Date\":date,\"Daily Precipitation Per Weather Station\":daily_indiv_station_prcp})\n",
    "daily_indiv_station_prcp_df.set_index(\"Date\",inplace=True)\n",
    "daily_indiv_station_prcp_df.head(5)\n",
    "              "
   ]
  },
  {
   "cell_type": "code",
   "execution_count": 19,
   "metadata": {},
   "outputs": [
    {
     "data": {
      "text/html": [
       "<div>\n",
       "<style scoped>\n",
       "    .dataframe tbody tr th:only-of-type {\n",
       "        vertical-align: middle;\n",
       "    }\n",
       "\n",
       "    .dataframe tbody tr th {\n",
       "        vertical-align: top;\n",
       "    }\n",
       "\n",
       "    .dataframe thead th {\n",
       "        text-align: right;\n",
       "    }\n",
       "</style>\n",
       "<table border=\"1\" class=\"dataframe\">\n",
       "  <thead>\n",
       "    <tr style=\"text-align: right;\">\n",
       "      <th></th>\n",
       "      <th>Daily Precipitation Per Weather Station</th>\n",
       "    </tr>\n",
       "  </thead>\n",
       "  <tbody>\n",
       "    <tr>\n",
       "      <th>count</th>\n",
       "      <td>2021.000000</td>\n",
       "    </tr>\n",
       "    <tr>\n",
       "      <th>mean</th>\n",
       "      <td>0.177279</td>\n",
       "    </tr>\n",
       "    <tr>\n",
       "      <th>std</th>\n",
       "      <td>0.461190</td>\n",
       "    </tr>\n",
       "    <tr>\n",
       "      <th>min</th>\n",
       "      <td>0.000000</td>\n",
       "    </tr>\n",
       "    <tr>\n",
       "      <th>25%</th>\n",
       "      <td>0.000000</td>\n",
       "    </tr>\n",
       "    <tr>\n",
       "      <th>50%</th>\n",
       "      <td>0.020000</td>\n",
       "    </tr>\n",
       "    <tr>\n",
       "      <th>75%</th>\n",
       "      <td>0.130000</td>\n",
       "    </tr>\n",
       "    <tr>\n",
       "      <th>max</th>\n",
       "      <td>6.700000</td>\n",
       "    </tr>\n",
       "  </tbody>\n",
       "</table>\n",
       "</div>"
      ],
      "text/plain": [
       "       Daily Precipitation Per Weather Station\n",
       "count                              2021.000000\n",
       "mean                                  0.177279\n",
       "std                                   0.461190\n",
       "min                                   0.000000\n",
       "25%                                   0.000000\n",
       "50%                                   0.020000\n",
       "75%                                   0.130000\n",
       "max                                   6.700000"
      ]
     },
     "execution_count": 19,
     "metadata": {},
     "output_type": "execute_result"
    }
   ],
   "source": [
    "#Use Pandas to calculate the summary statistics for the daily precipitation data\n",
    "\n",
    "daily_indiv_station_prcp_df.describe(include = 'all')"
   ]
  },
  {
   "cell_type": "code",
   "execution_count": 20,
   "metadata": {
    "scrolled": true
   },
   "outputs": [
    {
     "data": {
      "image/png": "[encoded data removed]",
      "text/plain": [
       "<Figure size 432x288 with 1 Axes>"
      ]
     },
     "metadata": {
      "needs_background": "light"
     },
     "output_type": "display_data"
    }
   ],
   "source": [
    "#Plot the barchart showing precipitation versus date\n",
    "#plt.figure(1)\n",
    "\n",
    "precip_chart = daily_indiv_station_prcp_df.plot(kind=\"bar\")\n",
    "\n",
    "#Set the x-label and y-label\n",
    "precip_chart.plot(figsize=(20,5))\n",
    "precip_chart.set_xlabel(\"Date\")\n",
    "precip_chart.set_ylabel(\"Precipitation - Inches\")\n",
    "\n",
    "# removes values on x-axis\n",
    "plt.xticks([])\n",
    "plt.ylim(0,4)\n",
    "plt.tight_layout()\n",
    "plt.show()\n"
   ]
  },
  {
   "cell_type": "code",
   "execution_count": 21,
   "metadata": {},
   "outputs": [],
   "source": [
    "# The barchart above - in my opinion - does not have much utility because techncally there are 2021 bars \n",
    "# denoting rainfall at multiple stations for each day\n",
    "\n",
    "# Therefore, I performed a query such that it returns the average rainfall of all stations, for a given day\n",
    "# Results as well as the bar chart are shown below"
   ]
  },
  {
   "cell_type": "code",
   "execution_count": 22,
   "metadata": {},
   "outputs": [
    {
     "data": {
      "text/html": [
       "<div>\n",
       "<style scoped>\n",
       "    .dataframe tbody tr th:only-of-type {\n",
       "        vertical-align: middle;\n",
       "    }\n",
       "\n",
       "    .dataframe tbody tr th {\n",
       "        vertical-align: top;\n",
       "    }\n",
       "\n",
       "    .dataframe thead th {\n",
       "        text-align: right;\n",
       "    }\n",
       "</style>\n",
       "<table border=\"1\" class=\"dataframe\">\n",
       "  <thead>\n",
       "    <tr style=\"text-align: right;\">\n",
       "      <th></th>\n",
       "      <th>Avg. Daily Precipitation</th>\n",
       "    </tr>\n",
       "    <tr>\n",
       "      <th>Date</th>\n",
       "      <th></th>\n",
       "    </tr>\n",
       "  </thead>\n",
       "  <tbody>\n",
       "    <tr>\n",
       "      <th>2016-08-23</th>\n",
       "      <td>0.451667</td>\n",
       "    </tr>\n",
       "    <tr>\n",
       "      <th>2016-08-24</th>\n",
       "      <td>1.555000</td>\n",
       "    </tr>\n",
       "    <tr>\n",
       "      <th>2016-08-25</th>\n",
       "      <td>0.077143</td>\n",
       "    </tr>\n",
       "    <tr>\n",
       "      <th>2016-08-26</th>\n",
       "      <td>0.016667</td>\n",
       "    </tr>\n",
       "    <tr>\n",
       "      <th>2016-08-27</th>\n",
       "      <td>0.064000</td>\n",
       "    </tr>\n",
       "  </tbody>\n",
       "</table>\n",
       "</div>"
      ],
      "text/plain": [
       "            Avg. Daily Precipitation\n",
       "Date                                \n",
       "2016-08-23                  0.451667\n",
       "2016-08-24                  1.555000\n",
       "2016-08-25                  0.077143\n",
       "2016-08-26                  0.016667\n",
       "2016-08-27                  0.064000"
      ]
     },
     "execution_count": 22,
     "metadata": {},
     "output_type": "execute_result"
    }
   ],
   "source": [
    "#Retrieve last 12 months of \"Average\" precipitation data - 8/23/2016 to 8/23/2017\n",
    "# Extract using session.query\n",
    "# https://appdividend.com/2019/01/26/pandas-set-index-example-python-set_index-tutorial/\n",
    "# Extracted the \"average\" precipitation measured by all stations for a given day\n",
    "\n",
    "avg_prcp_results=session.query(func.avg(Measurement.prcp), Measurement.date).group_by(Measurement.date).\\\n",
    "          filter(Measurement.date.between(twelve_months_prior, end)).all()\n",
    "\n",
    "#Define two lists to store the average daily prcp and date\n",
    "avg_prcp=[]\n",
    "meas_date=[]\n",
    "\n",
    "for row in avg_prcp_results:\n",
    "    avg_prcp.append(row[0])\n",
    "    meas_date.append(row[1])\n",
    "\n",
    "#Define a pandas dataframe to store the values in order to be able to plot\n",
    "\n",
    "avg_prcp_df = pd.DataFrame({\"Date\":meas_date,\"Avg. Daily Precipitation\":avg_prcp})\n",
    "avg_prcp_df.set_index(\"Date\",inplace=True)\n",
    "avg_prcp_df.head(5)"
   ]
  },
  {
   "cell_type": "code",
   "execution_count": 23,
   "metadata": {},
   "outputs": [
    {
     "data": {
      "text/html": [
       "<div>\n",
       "<style scoped>\n",
       "    .dataframe tbody tr th:only-of-type {\n",
       "        vertical-align: middle;\n",
       "    }\n",
       "\n",
       "    .dataframe tbody tr th {\n",
       "        vertical-align: top;\n",
       "    }\n",
       "\n",
       "    .dataframe thead th {\n",
       "        text-align: right;\n",
       "    }\n",
       "</style>\n",
       "<table border=\"1\" class=\"dataframe\">\n",
       "  <thead>\n",
       "    <tr style=\"text-align: right;\">\n",
       "      <th></th>\n",
       "      <th>Avg. Daily Precipitation</th>\n",
       "    </tr>\n",
       "  </thead>\n",
       "  <tbody>\n",
       "    <tr>\n",
       "      <th>count</th>\n",
       "      <td>366.000000</td>\n",
       "    </tr>\n",
       "    <tr>\n",
       "      <th>mean</th>\n",
       "      <td>0.170757</td>\n",
       "    </tr>\n",
       "    <tr>\n",
       "      <th>std</th>\n",
       "      <td>0.295683</td>\n",
       "    </tr>\n",
       "    <tr>\n",
       "      <th>min</th>\n",
       "      <td>0.000000</td>\n",
       "    </tr>\n",
       "    <tr>\n",
       "      <th>25%</th>\n",
       "      <td>0.008571</td>\n",
       "    </tr>\n",
       "    <tr>\n",
       "      <th>50%</th>\n",
       "      <td>0.070000</td>\n",
       "    </tr>\n",
       "    <tr>\n",
       "      <th>75%</th>\n",
       "      <td>0.191667</td>\n",
       "    </tr>\n",
       "    <tr>\n",
       "      <th>max</th>\n",
       "      <td>2.380000</td>\n",
       "    </tr>\n",
       "  </tbody>\n",
       "</table>\n",
       "</div>"
      ],
      "text/plain": [
       "       Avg. Daily Precipitation\n",
       "count                366.000000\n",
       "mean                   0.170757\n",
       "std                    0.295683\n",
       "min                    0.000000\n",
       "25%                    0.008571\n",
       "50%                    0.070000\n",
       "75%                    0.191667\n",
       "max                    2.380000"
      ]
     },
     "execution_count": 23,
     "metadata": {},
     "output_type": "execute_result"
    }
   ],
   "source": [
    "#Use Pandas to calculate the summary statistics for the average precipitation data\n",
    "\n",
    "avg_prcp_df.describe(include = 'all')"
   ]
  },
  {
   "cell_type": "code",
   "execution_count": 24,
   "metadata": {
    "scrolled": false
   },
   "outputs": [
    {
     "data": {
      "image/png": "[encoded data removed]",
      "text/plain": [
       "<Figure size 432x288 with 1 Axes>"
      ]
     },
     "metadata": {
      "needs_background": "light"
     },
     "output_type": "display_data"
    }
   ],
   "source": [
    "#Plot the barchart showing precipitation versus date\n",
    "#plt.figure(1)\n",
    "\n",
    "precip_chart = avg_prcp_df.plot(kind=\"bar\")\n",
    "\n",
    "#Set the x-label and y-label\n",
    "precip_chart.set_xlabel(\"Date\")\n",
    "precip_chart.set_ylabel(\"Average Precipitation - Inches\")\n",
    "\n",
    "# removes values on x-axis\n",
    "plt.xticks([])\n",
    "plt.tight_layout()\n",
    "plt.show()\n",
    "\n"
   ]
  },
  {
   "cell_type": "code",
   "execution_count": 25,
   "metadata": {},
   "outputs": [
    {
     "name": "stdout",
     "output_type": "stream",
     "text": [
      "9\n"
     ]
    }
   ],
   "source": [
    "# Design a query to show how many stations are available in this dataset?\n",
    "# Count the unique number of stations in measurements table\n",
    "# https://wiki.workassis.com/sum-avg-count-max-group_by-distinct-sqlalchemy/\n",
    "    \n",
    "from sqlalchemy import distinct\n",
    "\n",
    "no_unique_stations = session.query(func.count(distinct(Measurement.station))).scalar()\n",
    "print(no_unique_stations)                              \n"
   ]
  },
  {
   "cell_type": "code",
   "execution_count": 26,
   "metadata": {},
   "outputs": [
    {
     "data": {
      "text/plain": [
       "[('USC00519281', 2772),\n",
       " ('USC00519397', 2724),\n",
       " ('USC00513117', 2709),\n",
       " ('USC00519523', 2669),\n",
       " ('USC00516128', 2612),\n",
       " ('USC00514830', 2202),\n",
       " ('USC00511918', 1979),\n",
       " ('USC00517948', 1372),\n",
       " ('USC00518838', 511)]"
      ]
     },
     "execution_count": 26,
     "metadata": {},
     "output_type": "execute_result"
    }
   ],
   "source": [
    "# What are the most active stations? (i.e. what stations have the most rows)?\n",
    "# List the stations and the counts in descending order.\n",
    "\n",
    "from sqlalchemy import desc\n",
    "\n",
    "session.query(Measurement.station, func.count(Measurement.station)).\\\n",
    "                    group_by(Measurement.station).order_by(desc(func.count(Measurement.station))).all()\n",
    "\n"
   ]
  },
  {
   "cell_type": "code",
   "execution_count": 27,
   "metadata": {},
   "outputs": [],
   "source": [
    "#From the above list, 'USC00519281\" is the most active station'"
   ]
  },
  {
   "cell_type": "code",
   "execution_count": 28,
   "metadata": {},
   "outputs": [
    {
     "data": {
      "text/plain": [
       "[(54.0, 85.0, 71.66378066378067)]"
      ]
     },
     "execution_count": 28,
     "metadata": {},
     "output_type": "execute_result"
    }
   ],
   "source": [
    "# Using the station id from the previous query, calculate the lowest temperature recorded, \n",
    "# highest temperature recorded, and average temperature most active station?\n",
    "\n",
    "\n",
    "session.query(func.min(Measurement.tobs), func.max(Measurement.tobs), func.avg(Measurement.tobs)).\\\n",
    "                    filter(Measurement.station == \"USC00519281\").all()\n"
   ]
  },
  {
   "cell_type": "code",
   "execution_count": 29,
   "metadata": {},
   "outputs": [
    {
     "data": {
      "text/plain": [
       "[('USC00519281', 2772),\n",
       " ('USC00519397', 2724),\n",
       " ('USC00513117', 2709),\n",
       " ('USC00519523', 2669),\n",
       " ('USC00516128', 2612),\n",
       " ('USC00514830', 2202),\n",
       " ('USC00511918', 1979),\n",
       " ('USC00517948', 1372),\n",
       " ('USC00518838', 511)]"
      ]
     },
     "execution_count": 29,
     "metadata": {},
     "output_type": "execute_result"
    }
   ],
   "source": [
    "# Choose the station with the highest number of temperature observations.\n",
    "\n",
    "session.query(Measurement.station, func.count(Measurement.tobs)).group_by(Measurement.station).\\\n",
    "       order_by(desc(func.count(Measurement.tobs))).all()\n"
   ]
  },
  {
   "cell_type": "code",
   "execution_count": 30,
   "metadata": {},
   "outputs": [
    {
     "data": {
      "text/html": [
       "<div>\n",
       "<style scoped>\n",
       "    .dataframe tbody tr th:only-of-type {\n",
       "        vertical-align: middle;\n",
       "    }\n",
       "\n",
       "    .dataframe tbody tr th {\n",
       "        vertical-align: top;\n",
       "    }\n",
       "\n",
       "    .dataframe thead th {\n",
       "        text-align: right;\n",
       "    }\n",
       "</style>\n",
       "<table border=\"1\" class=\"dataframe\">\n",
       "  <thead>\n",
       "    <tr style=\"text-align: right;\">\n",
       "      <th></th>\n",
       "      <th>Temperature</th>\n",
       "    </tr>\n",
       "  </thead>\n",
       "  <tbody>\n",
       "    <tr>\n",
       "      <th>0</th>\n",
       "      <td>77.0</td>\n",
       "    </tr>\n",
       "    <tr>\n",
       "      <th>1</th>\n",
       "      <td>77.0</td>\n",
       "    </tr>\n",
       "    <tr>\n",
       "      <th>2</th>\n",
       "      <td>80.0</td>\n",
       "    </tr>\n",
       "    <tr>\n",
       "      <th>3</th>\n",
       "      <td>80.0</td>\n",
       "    </tr>\n",
       "    <tr>\n",
       "      <th>4</th>\n",
       "      <td>75.0</td>\n",
       "    </tr>\n",
       "  </tbody>\n",
       "</table>\n",
       "</div>"
      ],
      "text/plain": [
       "   Temperature\n",
       "0         77.0\n",
       "1         77.0\n",
       "2         80.0\n",
       "3         80.0\n",
       "4         75.0"
      ]
     },
     "execution_count": 30,
     "metadata": {},
     "output_type": "execute_result"
    }
   ],
   "source": [
    "# From the above cell, the station with the highest number of temperature observations is 'USC00519281'\n",
    "# Query the last 12 months of temperature observation data for this station and plot the results as a histogram\n",
    "\n",
    "temp_results=session.query(Measurement.tobs).filter(Measurement.station == \"USC00519281\").\\\n",
    "          filter(Measurement.date.between(twelve_months_prior, end))\n",
    "\n",
    "# Define a list to store the temperature values\n",
    "\n",
    "temps = []\n",
    "\n",
    "for row in temp_results:\n",
    "    temps.append(row[0])\n",
    "\n",
    "#Define a pandas dataframe to store the values in order to be able to plot\n",
    "\n",
    "temp_df = pd.DataFrame({\"Temperature\":temps})\n",
    "\n",
    "temp_df.head(5)\n",
    "\n"
   ]
  },
  {
   "cell_type": "code",
   "execution_count": 31,
   "metadata": {},
   "outputs": [
    {
     "data": {
      "image/png": "[encoded data removed]",
      "text/plain": [
       "<Figure size 432x288 with 1 Axes>"
      ]
     },
     "metadata": {
      "needs_background": "light"
     },
     "output_type": "display_data"
    }
   ],
   "source": [
    "# Draw the histogram\n",
    "\n",
    "temp_chart = temp_df.hist(bins=12)\n",
    "plt.tight_layout()\n",
    "plt.show()\n"
   ]
  },
  {
   "cell_type": "code",
   "execution_count": 32,
   "metadata": {},
   "outputs": [
    {
     "name": "stdout",
     "output_type": "stream",
     "text": [
      "[(62.0, 70.01063829787235, 77.0)]\n"
     ]
    }
   ],
   "source": [
    "# This function called `calc_temps` will accept start date and end date in the format '%Y-%m-%d' \n",
    "# and return the minimum, average, and maximum temperatures for that range of dates\n",
    "def calc_temps(start_date, end_date):\n",
    "    \"\"\"TMIN, TAVG, and TMAX for a list of dates.\n",
    "    \n",
    "    Args:\n",
    "        start_date (string): A date string in the format %Y-%m-%d\n",
    "        end_date (string): A date string in the format %Y-%m-%d\n",
    "        \n",
    "    Returns:\n",
    "        TMIN, TAVE, and TMAX\n",
    "    \"\"\"\n",
    "    \n",
    "    return session.query(func.min(Measurement.tobs), func.avg(Measurement.tobs), func.max(Measurement.tobs)).\\\n",
    "        filter(Measurement.date >= start_date).filter(Measurement.date <= end_date).all()\n",
    "\n",
    "# function usage example\n",
    "print(calc_temps('2012-02-23', '2012-03-05'))"
   ]
  },
  {
   "cell_type": "code",
   "execution_count": 33,
   "metadata": {},
   "outputs": [
    {
     "name": "stdout",
     "output_type": "stream",
     "text": [
      "[(58.0, 72.78217821782178, 83.0)]\n"
     ]
    }
   ],
   "source": [
    "# Use your previous function `calc_temps` to calculate the tmin, tavg, and tmax \n",
    "# for your trip using the previous year's data for those same dates.\n",
    "\n",
    "# Assume my vacation dates are 2017-04-16 to 2017-05-01 (celebrating the filing of the tax return)\n",
    "\n",
    "# function usage for my trip from 2017-04-16 to 2017-05-01\n",
    "vacation_values = calc_temps('2017-04-16', '2017-05-01')\n",
    "print(vacation_values)"
   ]
  },
  {
   "cell_type": "code",
   "execution_count": 34,
   "metadata": {
    "scrolled": true
   },
   "outputs": [
    {
     "data": {
      "image/png": "[encoded data removed]",
      "text/plain": [
       "<Figure size 432x288 with 1 Axes>"
      ]
     },
     "metadata": {
      "needs_background": "light"
     },
     "output_type": "display_data"
    }
   ],
   "source": [
    "# Plot the results from your previous query as a bar chart. \n",
    "# Use \"Trip Avg Temp\" as your Title\n",
    "# Use the average temperature for the y value\n",
    "# Use the peak-to-peak (tmax-tmin) value as the y error bar (yerr)\n",
    "\n",
    "# https://pythonforundergradengineers.com/python-matplotlib-error-bars.html\n",
    "\n",
    "tmin,tavg,tmax = vacation_values[0]\n",
    "\n",
    "#print(tmin)\n",
    "#print(tavg)\n",
    "#print(tmax)\n",
    "\n",
    "yerror = tmax-tmin\n",
    "\n",
    "#print(yerror)\n",
    "\n",
    "#error_chart = plt.bar(1, tavg, yerr=yerror)\n",
    "#error_chart.show()\n",
    "\n",
    "# https://matplotlib.org/3.1.1/api/_as_gen/matplotlib.pyplot.errorbar.html\n",
    "plt.bar(1,tavg)\n",
    "#plt.subplots(figsize=plt.figaspect(2.))\n",
    "plt.errorbar(1, tavg, yerr=yerror, color = \"black\")\n",
    "#plt.subplots(figsize=plt.figaspect(2.))\n",
    "plt.title(\"Trip Average Temperature\")\n",
    "plt.xticks([])\n",
    "plt.tight_layout()\n",
    "plt.show()\n",
    "\n",
    "# The following code was given to me by Bowen but this also has the same problem.\n",
    "# It also shows an error message as follows when run:\n",
    "\n",
    "# C:\\Users\\rames\\Anaconda3\\envs\\PythonData\\lib\\site-packages\\ipykernel_launcher.py:46: UserWarning: Matplotlib is \n",
    "# currently using module://ipykernel.pylab.backend_inline, which is a non-GUI backend, so cannot show the figure.\n",
    "\n",
    "# Therefore, I used the original code given above.\n",
    "\n",
    "# # import dependencies\n",
    "# import matplotlib.pyplot as plt\n",
    "\n",
    "# # defines variables to be used in plot\n",
    "# #tmin, tavg, tmax = [62.0, 68.36585365853658, 74.0]\n",
    "# tmin, tavg, tmax = vacation_values[0]\n",
    "# yerr = tmax - tmin\n",
    "# xpos = 1\n",
    "\n",
    "# # builds and shows plot\n",
    "# fig, ax = plt.subplots(figsize=plt.figaspect(2.))\n",
    "# ax.bar(xpos, tavg)\n",
    "# ax.errorbar(xpos, tavg, yerr=yerr, color=\"black\")\n",
    "# ax.set(xticks=range(xpos), xticklabels=\"a\", title=\"Trip Avg Temp\", ylabel=\"Temp (F)\")\n",
    "# fig.tight_layout()\n",
    "# fig.show()\n",
    "\n",
    "\n"
   ]
  },
  {
   "cell_type": "code",
   "execution_count": 35,
   "metadata": {},
   "outputs": [
    {
     "name": "stdout",
     "output_type": "stream",
     "text": [
      "[(58.0, 74.59058295964125, 87.0)]\n"
     ]
    }
   ],
   "source": [
    "# Use your previous function `calc_temps` to calculate the tmin, tavg, and tmax \n",
    "# for your trip using the previous year's data for those same dates.\n",
    "\n",
    "# I have now done this for the entire year\n",
    "# The start date is 2016-08-23 and end date is 2017-08-23\n",
    "\n",
    "# Based on the way the function calc_temp is defined we have to hard code the dates in the function call\n",
    "# function usage for my trip from 2017-04-16 to 2017-05-01\n",
    "twelve_month_values = calc_temps('2016-08-23', '2017-08-23')\n",
    "\n",
    "print(twelve_month_values)"
   ]
  },
  {
   "cell_type": "code",
   "execution_count": 36,
   "metadata": {},
   "outputs": [
    {
     "data": {
      "text/html": [
       "<div>\n",
       "<style scoped>\n",
       "    .dataframe tbody tr th:only-of-type {\n",
       "        vertical-align: middle;\n",
       "    }\n",
       "\n",
       "    .dataframe tbody tr th {\n",
       "        vertical-align: top;\n",
       "    }\n",
       "\n",
       "    .dataframe thead th {\n",
       "        text-align: right;\n",
       "    }\n",
       "</style>\n",
       "<table border=\"1\" class=\"dataframe\">\n",
       "  <thead>\n",
       "    <tr style=\"text-align: right;\">\n",
       "      <th></th>\n",
       "      <th>Station</th>\n",
       "      <th>Measurement Begin Date</th>\n",
       "      <th>Measurement End Date</th>\n",
       "      <th>Latitude</th>\n",
       "      <th>Longitude</th>\n",
       "      <th>Elevation</th>\n",
       "      <th>Total Rainfall</th>\n",
       "    </tr>\n",
       "  </thead>\n",
       "  <tbody>\n",
       "    <tr>\n",
       "      <th>0</th>\n",
       "      <td>USC00519523</td>\n",
       "      <td>2017-04-16</td>\n",
       "      <td>2017-04-17</td>\n",
       "      <td>21.33556</td>\n",
       "      <td>-157.71139</td>\n",
       "      <td>19.5</td>\n",
       "      <td>10.80</td>\n",
       "    </tr>\n",
       "    <tr>\n",
       "      <th>1</th>\n",
       "      <td>USC00519281</td>\n",
       "      <td>2017-04-16</td>\n",
       "      <td>2017-04-17</td>\n",
       "      <td>21.45167</td>\n",
       "      <td>-157.84889</td>\n",
       "      <td>32.9</td>\n",
       "      <td>9.04</td>\n",
       "    </tr>\n",
       "    <tr>\n",
       "      <th>2</th>\n",
       "      <td>USC00516128</td>\n",
       "      <td>2017-04-16</td>\n",
       "      <td>2017-04-17</td>\n",
       "      <td>21.33310</td>\n",
       "      <td>-157.80250</td>\n",
       "      <td>152.4</td>\n",
       "      <td>8.18</td>\n",
       "    </tr>\n",
       "    <tr>\n",
       "      <th>3</th>\n",
       "      <td>USC00513117</td>\n",
       "      <td>2017-04-16</td>\n",
       "      <td>2017-04-17</td>\n",
       "      <td>21.42340</td>\n",
       "      <td>-157.80150</td>\n",
       "      <td>14.6</td>\n",
       "      <td>7.36</td>\n",
       "    </tr>\n",
       "    <tr>\n",
       "      <th>4</th>\n",
       "      <td>USC00514830</td>\n",
       "      <td>2017-04-16</td>\n",
       "      <td>2017-04-17</td>\n",
       "      <td>21.52130</td>\n",
       "      <td>-157.83740</td>\n",
       "      <td>7.0</td>\n",
       "      <td>4.27</td>\n",
       "    </tr>\n",
       "    <tr>\n",
       "      <th>5</th>\n",
       "      <td>USC00519397</td>\n",
       "      <td>2017-04-16</td>\n",
       "      <td>2017-04-17</td>\n",
       "      <td>21.27160</td>\n",
       "      <td>-157.81680</td>\n",
       "      <td>3.0</td>\n",
       "      <td>1.94</td>\n",
       "    </tr>\n",
       "    <tr>\n",
       "      <th>6</th>\n",
       "      <td>USC00517948</td>\n",
       "      <td>2017-04-16</td>\n",
       "      <td>2017-04-17</td>\n",
       "      <td>21.39340</td>\n",
       "      <td>-157.97510</td>\n",
       "      <td>11.9</td>\n",
       "      <td>0.00</td>\n",
       "    </tr>\n",
       "  </tbody>\n",
       "</table>\n",
       "</div>"
      ],
      "text/plain": [
       "       Station Measurement Begin Date Measurement End Date  Latitude  \\\n",
       "0  USC00519523             2017-04-16           2017-04-17  21.33556   \n",
       "1  USC00519281             2017-04-16           2017-04-17  21.45167   \n",
       "2  USC00516128             2017-04-16           2017-04-17  21.33310   \n",
       "3  USC00513117             2017-04-16           2017-04-17  21.42340   \n",
       "4  USC00514830             2017-04-16           2017-04-17  21.52130   \n",
       "5  USC00519397             2017-04-16           2017-04-17  21.27160   \n",
       "6  USC00517948             2017-04-16           2017-04-17  21.39340   \n",
       "\n",
       "   Longitude  Elevation  Total Rainfall  \n",
       "0 -157.71139       19.5           10.80  \n",
       "1 -157.84889       32.9            9.04  \n",
       "2 -157.80250      152.4            8.18  \n",
       "3 -157.80150       14.6            7.36  \n",
       "4 -157.83740        7.0            4.27  \n",
       "5 -157.81680        3.0            1.94  \n",
       "6 -157.97510       11.9            0.00  "
      ]
     },
     "execution_count": 36,
     "metadata": {},
     "output_type": "execute_result"
    }
   ],
   "source": [
    "# Calculate the total amount of rainfall per weather station for your trip dates using the previous year's matching dates.\n",
    "# Sort this in descending order by precipitation amount and list the station, name, latitude, longitude, and elevation\n",
    "\n",
    "# Per Michael use the vacation dates you have used above\n",
    "\n",
    "trip_begin = datetime.strptime('2017-04-16', '%Y-%m-%d')\n",
    "trip_end = datetime.strptime('2017-05-01', '%Y-%m-%d')\n",
    "\n",
    "results =  session.query(func.sum(Measurement.prcp), Measurement.date, Measurement.station, Station.latitude, Station.longitude,Station.elevation).\\\n",
    "          join(Station,Measurement.station == Station.station).filter(Measurement.station==Station.station).\\\n",
    "          filter(Measurement.date.between(trip_begin,trip_end)).group_by(Measurement.station).order_by(desc(func.sum(Measurement.prcp))).all()\n",
    "\n",
    "#print(result)\n",
    "\n",
    "# Define lists to store all required values\n",
    "\n",
    "\n",
    "total_station_rainfall = []\n",
    "measurement_begin_date = []\n",
    "measurement_end_date = []\n",
    "station_name = []\n",
    "station_latitude = []\n",
    "station_longitude = []\n",
    "station_elevation = []\n",
    "\n",
    "for row in results:\n",
    "    total_station_rainfall.append(row[0])\n",
    "    measurement_begin_date.append(trip_begin)\n",
    "    measurement_end_date.append(row[1])\n",
    "    station_name.append(row[2])\n",
    "    station_latitude.append(row[3])\n",
    "    station_longitude.append(row[4])\n",
    "    station_elevation.append(row[5])\n",
    "    \n",
    "#Define a pandas dataframe to store the values in order for display\n",
    "\n",
    "rainfall_df = pd.DataFrame({\"Station\":station_name, \"Measurement Begin Date\":measurement_begin_date, \"Measurement End Date\":measurement_end_date,\\\n",
    "                            \"Latitude\":station_latitude,\"Longitude\":station_longitude,\"Elevation\":station_elevation, \"Total Rainfall\":total_station_rainfall})\n",
    "\n",
    "\n",
    "rainfall_df\n"
   ]
  },
  {
   "cell_type": "markdown",
   "metadata": {},
   "source": [
    "## Optional Challenge Assignment"
   ]
  },
  {
   "cell_type": "code",
   "execution_count": 37,
   "metadata": {},
   "outputs": [
    {
     "data": {
      "text/plain": [
       "[(62.0, 69.15384615384616, 77.0)]"
      ]
     },
     "execution_count": 37,
     "metadata": {},
     "output_type": "execute_result"
    }
   ],
   "source": [
    "# Create a query that will calculate the daily normals \n",
    "# (i.e. the averages for tmin, tmax, and tavg for all historic data matching a specific month and day)\n",
    "\n",
    "def daily_normals(date):\n",
    "    \"\"\"Daily Normals.\n",
    "    \n",
    "    Args:\n",
    "        date (str): A date string in the format '%m-%d'\n",
    "        \n",
    "    Returns:\n",
    "        A list of tuples containing the daily normals, tmin, tavg, and tmax\n",
    "    \n",
    "    \"\"\"\n",
    "    \n",
    "    sel = [func.min(Measurement.tobs), func.avg(Measurement.tobs), func.max(Measurement.tobs)]\n",
    "    return session.query(*sel).filter(func.strftime(\"%m-%d\", Measurement.date) == date).all()\n",
    "    \n",
    "daily_normals(\"01-01\")"
   ]
  },
  {
   "cell_type": "code",
   "execution_count": 38,
   "metadata": {
    "scrolled": false
   },
   "outputs": [],
   "source": [
    "# calculate the daily normals for your trip\n",
    "\n",
    "# push each tuple of calculations into a list called `normals`\n",
    "\n",
    "# Set the start and end date of the trip\n",
    "\n",
    "# Use the start and end date to create a range of dates\n",
    "\n",
    "# Stip off the year and save a list of %m-%d strings\n",
    "\n",
    "trip_dates = [\"04-16\",\"04-17\",\"04-18\",\"04-19\",\"04-20\",\"04-21\",\"04-22\",\"04-23\",\"04-24\",\"04-25\",\"04-26\",\"04-27\",\"04-28\",\\\n",
    "              \"04-29\",\"04-30\",\"05-01\"]\n",
    "trip_daily_normals = []\n",
    "\n",
    "for date in trip_dates:\n",
    "    trip_daily_normals.append(daily_normals(date))\n",
    "    \n",
    "#print(trip_daily_normals)\n",
    "\n",
    "# Split the tuples into separate lists\n",
    "# https://stackoverflow.com/questions/21867303/how-to-split-a-list-of-2-tuples-into-two-lists\n",
    "\n",
    "#trip_daily_min,trip_daily_avg,trip_daily_max = map(list, zip(*trip_daily_normals))\n",
    "\n",
    "def get_list(tuples):\n",
    "    list1 = []\n",
    "    list2 = []\n",
    "    list3 = []\n",
    "    for i in tuples:\n",
    "        list1.append(i[0][0])\n",
    "        list2.append(i[0][1])\n",
    "        list3.append(i[0][2])\n",
    "    return list1, list2, list3\n",
    "\n",
    "#Make the function call to get the daily normals for each of the trip dates\n",
    "\n",
    "trip_daily_min, trip_daily_avg, trip_daily_max = get_list(trip_daily_normals)\n",
    "\n"
   ]
  },
  {
   "cell_type": "code",
   "execution_count": 39,
   "metadata": {},
   "outputs": [
    {
     "data": {
      "text/html": [
       "<div>\n",
       "<style scoped>\n",
       "    .dataframe tbody tr th:only-of-type {\n",
       "        vertical-align: middle;\n",
       "    }\n",
       "\n",
       "    .dataframe tbody tr th {\n",
       "        vertical-align: top;\n",
       "    }\n",
       "\n",
       "    .dataframe thead th {\n",
       "        text-align: right;\n",
       "    }\n",
       "</style>\n",
       "<table border=\"1\" class=\"dataframe\">\n",
       "  <thead>\n",
       "    <tr style=\"text-align: right;\">\n",
       "      <th></th>\n",
       "      <th>Daily Normal Min</th>\n",
       "      <th>Daily Normal Avg</th>\n",
       "      <th>Daily Normal Max</th>\n",
       "    </tr>\n",
       "    <tr>\n",
       "      <th>Trip Date</th>\n",
       "      <th></th>\n",
       "      <th></th>\n",
       "      <th></th>\n",
       "    </tr>\n",
       "  </thead>\n",
       "  <tbody>\n",
       "    <tr>\n",
       "      <th>04-16</th>\n",
       "      <td>62.0</td>\n",
       "      <td>71.553571</td>\n",
       "      <td>81.0</td>\n",
       "    </tr>\n",
       "    <tr>\n",
       "      <th>04-17</th>\n",
       "      <td>65.0</td>\n",
       "      <td>71.931034</td>\n",
       "      <td>77.0</td>\n",
       "    </tr>\n",
       "    <tr>\n",
       "      <th>04-18</th>\n",
       "      <td>67.0</td>\n",
       "      <td>72.491525</td>\n",
       "      <td>77.0</td>\n",
       "    </tr>\n",
       "    <tr>\n",
       "      <th>04-19</th>\n",
       "      <td>65.0</td>\n",
       "      <td>72.421053</td>\n",
       "      <td>83.0</td>\n",
       "    </tr>\n",
       "    <tr>\n",
       "      <th>04-20</th>\n",
       "      <td>64.0</td>\n",
       "      <td>72.736842</td>\n",
       "      <td>80.0</td>\n",
       "    </tr>\n",
       "  </tbody>\n",
       "</table>\n",
       "</div>"
      ],
      "text/plain": [
       "           Daily Normal Min  Daily Normal Avg  Daily Normal Max\n",
       "Trip Date                                                      \n",
       "04-16                  62.0         71.553571              81.0\n",
       "04-17                  65.0         71.931034              77.0\n",
       "04-18                  67.0         72.491525              77.0\n",
       "04-19                  65.0         72.421053              83.0\n",
       "04-20                  64.0         72.736842              80.0"
      ]
     },
     "execution_count": 39,
     "metadata": {},
     "output_type": "execute_result"
    }
   ],
   "source": [
    "# Load the previous query results into a Pandas DataFrame and add the `trip_dates` range as the `date` index\n",
    "\n",
    "#Define a pandas dataframe to store the values in order for display\n",
    "\n",
    "#Define a pandas dataframe to store the values in order for display\n",
    "\n",
    "trip_normals_df = pd.DataFrame({\"Trip Date\":trip_dates,\"Daily Normal Min\":trip_daily_min,\"Daily Normal Avg\":trip_daily_avg,\"Daily Normal Max\":trip_daily_max})\n",
    "trip_normals_df.set_index(\"Trip Date\",inplace=True)\n",
    "trip_normals_df.head(5)\n"
   ]
  },
  {
   "cell_type": "code",
   "execution_count": 40,
   "metadata": {},
   "outputs": [
    {
     "data": {
      "image/png": "[encoded data removed]",
      "text/plain": [
       "<Figure size 432x288 with 1 Axes>"
      ]
     },
     "metadata": {
      "needs_background": "light"
     },
     "output_type": "display_data"
    }
   ],
   "source": [
    "# Plot the daily normals as an area plot with `stacked=False`\n",
    "# raReference: https://pandas.pydata.org/pandas-docs/stable/reference/api/pandas.DataFrame.plot.area.html\n",
    "\n",
    "ax = trip_normals_df.plot.area(stacked=False)\n",
    "\n",
    "plt.legend(loc='upper right')\n",
    "plt.title(\"Daily Normals for the Selected Period\")\n",
    "plt.xlabel(\"Date\")\n",
    "plt.ylabel(\"Temperature - deg F\")\n",
    "plt.show()\n"
   ]
  },
  {
   "cell_type": "code",
   "execution_count": null,
   "metadata": {},
   "outputs": [],
   "source": []
  }
 ],
 "metadata": {
  "kernel_info": {
   "name": "python3"
  },
  "kernelspec": {
   "display_name": "Python [conda env:PythonData] *",
   "language": "python",
   "name": "conda-env-PythonData-py"
  },
  "language_info": {
   "codemirror_mode": {
    "name": "ipython",
    "version": 3
   },
   "file_extension": ".py",
   "mimetype": "text/x-python",
   "name": "python",
   "nbconvert_exporter": "python",
   "pygments_lexer": "ipython3",
   "version": "3.6.8"
  },
  "nteract": {
   "version": "0.12.3"
  },
  "varInspector": {
   "cols": {
    "lenName": 16,
    "lenType": 16,
    "lenVar": 40
   },
   "kernels_config": {
    "python": {
     "delete_cmd_postfix": "",
     "delete_cmd_prefix": "del ",
     "library": "var_list.py",
     "varRefreshCmd": "print(var_dic_list())"
    },
    "r": {
     "delete_cmd_postfix": ") ",
     "delete_cmd_prefix": "rm(",
     "library": "var_list.r",
     "varRefreshCmd": "cat(var_dic_list()) "
    }
   },
   "types_to_exclude": [
    "module",
    "function",
    "builtin_function_or_method",
    "instance",
    "_Feature"
   ],
   "window_display": false
  }
 },
 "nbformat": 4,
 "nbformat_minor": 2
}
